{
 "cells": [
  {
   "cell_type": "markdown",
   "id": "6688072d",
   "metadata": {},
   "source": [
    "# <center>Benchmark compression</center>"
   ]
  },
  {
   "cell_type": "markdown",
   "id": "3f31c373",
   "metadata": {},
   "source": [
    "## <center> Introduction</center>"
   ]
  },
  {
   "cell_type": "markdown",
   "id": "4505fb0b",
   "metadata": {},
   "source": [
    "Ce notebook sert à exécuter des commandes `ffmpeg` afin de tester les différents paramètres et d'en tirer rapidement des métriques pour améliorer la commande de compression utilisée."
   ]
  },
  {
   "cell_type": "code",
   "execution_count": 23,
   "id": "3f781184",
   "metadata": {},
   "outputs": [],
   "source": [
    "file_in = \"/data/pipeline/pipeline-tracking/2022_CF_Limoges/before_jeudi_droit/A008_11030611_C007.mov\"\n",
    "format_out = \".mp4\""
   ]
  },
  {
   "cell_type": "code",
   "execution_count": 24,
   "id": "d1b02f70",
   "metadata": {},
   "outputs": [
    {
     "ename": "Error",
     "evalue": "ffprobe error (see stderr output for detail)",
     "output_type": "error",
     "traceback": [
      "\u001b[0;31m---------------------------------------------------------------------------\u001b[0m",
      "\u001b[0;31mError\u001b[0m                                     Traceback (most recent call last)",
      "\u001b[0;32m/var/folders/vg/jb278gs54dx19zg4493rjtmm0000gn/T/ipykernel_6656/2470141885.py\u001b[0m in \u001b[0;36m<module>\u001b[0;34m\u001b[0m\n\u001b[1;32m      9\u001b[0m \u001b[0;34m\u001b[0m\u001b[0m\n\u001b[1;32m     10\u001b[0m \u001b[0;31m# get the metadata of the input video once and for all\u001b[0m\u001b[0;34m\u001b[0m\u001b[0;34m\u001b[0m\u001b[0m\n\u001b[0;32m---> 11\u001b[0;31m \u001b[0mfile_duration\u001b[0m \u001b[0;34m=\u001b[0m \u001b[0mfloat\u001b[0m\u001b[0;34m(\u001b[0m\u001b[0mffmpeg\u001b[0m\u001b[0;34m.\u001b[0m\u001b[0mprobe\u001b[0m\u001b[0;34m(\u001b[0m\u001b[0mfile_in\u001b[0m\u001b[0;34m)\u001b[0m\u001b[0;34m[\u001b[0m\u001b[0;34m\"streams\"\u001b[0m\u001b[0;34m]\u001b[0m\u001b[0;34m[\u001b[0m\u001b[0;36m0\u001b[0m\u001b[0;34m]\u001b[0m\u001b[0;34m[\u001b[0m\u001b[0;34m\"duration\"\u001b[0m\u001b[0;34m]\u001b[0m\u001b[0;34m)\u001b[0m\u001b[0;34m\u001b[0m\u001b[0;34m\u001b[0m\u001b[0m\n\u001b[0m\u001b[1;32m     12\u001b[0m \u001b[0min_size\u001b[0m \u001b[0;34m=\u001b[0m \u001b[0mfloat\u001b[0m\u001b[0;34m(\u001b[0m\u001b[0mffmpeg\u001b[0m\u001b[0;34m.\u001b[0m\u001b[0mprobe\u001b[0m\u001b[0;34m(\u001b[0m\u001b[0mfile_in\u001b[0m\u001b[0;34m)\u001b[0m\u001b[0;34m[\u001b[0m\u001b[0;34m\"format\"\u001b[0m\u001b[0;34m]\u001b[0m\u001b[0;34m[\u001b[0m\u001b[0;34m\"size\"\u001b[0m\u001b[0;34m]\u001b[0m\u001b[0;34m)\u001b[0m\u001b[0;34m\u001b[0m\u001b[0;34m\u001b[0m\u001b[0m\n",
      "\u001b[0;32m/Applications/anaconda3/lib/python3.9/site-packages/ffmpeg/_probe.py\u001b[0m in \u001b[0;36mprobe\u001b[0;34m(filename, cmd, **kwargs)\u001b[0m\n\u001b[1;32m     21\u001b[0m     \u001b[0mout\u001b[0m\u001b[0;34m,\u001b[0m \u001b[0merr\u001b[0m \u001b[0;34m=\u001b[0m \u001b[0mp\u001b[0m\u001b[0;34m.\u001b[0m\u001b[0mcommunicate\u001b[0m\u001b[0;34m(\u001b[0m\u001b[0;34m)\u001b[0m\u001b[0;34m\u001b[0m\u001b[0;34m\u001b[0m\u001b[0m\n\u001b[1;32m     22\u001b[0m     \u001b[0;32mif\u001b[0m \u001b[0mp\u001b[0m\u001b[0;34m.\u001b[0m\u001b[0mreturncode\u001b[0m \u001b[0;34m!=\u001b[0m \u001b[0;36m0\u001b[0m\u001b[0;34m:\u001b[0m\u001b[0;34m\u001b[0m\u001b[0;34m\u001b[0m\u001b[0m\n\u001b[0;32m---> 23\u001b[0;31m         \u001b[0;32mraise\u001b[0m \u001b[0mError\u001b[0m\u001b[0;34m(\u001b[0m\u001b[0;34m'ffprobe'\u001b[0m\u001b[0;34m,\u001b[0m \u001b[0mout\u001b[0m\u001b[0;34m,\u001b[0m \u001b[0merr\u001b[0m\u001b[0;34m)\u001b[0m\u001b[0;34m\u001b[0m\u001b[0;34m\u001b[0m\u001b[0m\n\u001b[0m\u001b[1;32m     24\u001b[0m     \u001b[0;32mreturn\u001b[0m \u001b[0mjson\u001b[0m\u001b[0;34m.\u001b[0m\u001b[0mloads\u001b[0m\u001b[0;34m(\u001b[0m\u001b[0mout\u001b[0m\u001b[0;34m.\u001b[0m\u001b[0mdecode\u001b[0m\u001b[0;34m(\u001b[0m\u001b[0;34m'utf-8'\u001b[0m\u001b[0;34m)\u001b[0m\u001b[0;34m)\u001b[0m\u001b[0;34m\u001b[0m\u001b[0;34m\u001b[0m\u001b[0m\n\u001b[1;32m     25\u001b[0m \u001b[0;34m\u001b[0m\u001b[0m\n",
      "\u001b[0;31mError\u001b[0m: ffprobe error (see stderr output for detail)"
     ]
    }
   ],
   "source": [
    "import timeit\n",
    "import subprocess\n",
    "import shlex\n",
    "from datetime import timedelta\n",
    "import os\n",
    "import ffmpeg\n",
    "\n",
    "f_time = timeit.default_timer\n",
    "\n",
    "# get the metadata of the input video once and for all\n",
    "file_duration = float(ffmpeg.probe(file_in)[\"streams\"][0][\"duration\"])\n",
    "in_size = float(ffmpeg.probe(file_in)[\"format\"][\"size\"])"
   ]
  },
  {
   "cell_type": "markdown",
   "id": "4d8b8d85",
   "metadata": {},
   "source": [
    "## <center>Exécution des commandes</center>"
   ]
  },
  {
   "cell_type": "markdown",
   "id": "35d42da9",
   "metadata": {},
   "source": [
    "### 3. Sous-échantillonnage colorimétrique"
   ]
  },
  {
   "cell_type": "code",
   "execution_count": null,
   "id": "19ee398c",
   "metadata": {},
   "outputs": [],
   "source": [
    "commands = [\"ffmpeg -y -i $in -vcodec libx264 -crf 24 -preset ultrafast -acodec aac -strict experimental $out\",                #4:2:2 10-bit\n",
    "    \"ffmpeg -y -i $in -vcodec libx264 -crf 24 -preset ultrafast -vf format=yuv422p -acodec aac -strict experimental $out\",     #4:2:2 8-bit\n",
    "    \"ffmpeg -y -i $in -vcodec libx264 -crf 24 -preset ultrafast -vf format=yuv420p10le -acodec aac -strict experimental $out\", #4:2:0 10-bit\n",
    "    \"ffmpeg -y -i $in -vcodec libx264 -crf 24 -preset ultrafast -vf format=yuv420p -acodec aac -strict experimental $out\",     #4:2:0 8-bit\n",
    "    \"ffmpeg -y -i $in -vcodec libx264 -crf 24 -preset ultrafast -vf format=yuv411p -acodec aac -strict experimental $out\",     #4:1:1 8-bit\n",
    "    \n",
    "    \"ffmpeg -y -i $in -vcodec libx264 -crf 24 -preset superfast -acodec aac -strict experimental $out\",                        #4:2:2 10-bit\n",
    "    \"ffmpeg -y -i $in -vcodec libx264 -crf 24 -preset superfast -vf format=yuv422p -acodec aac -strict experimental $out\",     #4:2:2 8-bit\n",
    "    \"ffmpeg -y -i $in -vcodec libx264 -crf 24 -preset superfast -vf format=yuv420p10le -acodec aac -strict experimental $out\", #4:2:0 10-bit\n",
    "    \"ffmpeg -y -i $in -vcodec libx264 -crf 24 -preset superfast -vf format=yuv420p -acodec aac -strict experimental $out\",     #4:2:0 8-bit\n",
    "    \"ffmpeg -y -i $in -vcodec libx264 -crf 24 -preset superfast -vf format=yuv411p -acodec aac -strict experimental $out\",     #4:1:1 8-bit   \n",
    "]\n",
    "\n",
    "Comp = [0]*len(commands)\n",
    "Durees = [0]*len(commands)"
   ]
  },
  {
   "cell_type": "markdown",
   "id": "a35c611d",
   "metadata": {},
   "source": [
    "Exécution du script"
   ]
  },
  {
   "cell_type": "code",
   "execution_count": 25,
   "id": "8900f6b3",
   "metadata": {},
   "outputs": [
    {
     "name": "stdout",
     "output_type": "stream",
     "text": [
      "Commande : ffmpeg -y -i $in -vcodec libx264 -crf 24 -preset ultrafast -acodec aac -strict experimental $out\n",
      "Output : 0.mp4\n",
      "Durée de compression : 0:00:00.042605\n"
     ]
    },
    {
     "name": "stderr",
     "output_type": "stream",
     "text": [
      "Unrecognized option 'crf'.\n",
      "Error splitting the argument list: Option not found\n"
     ]
    },
    {
     "ename": "NameError",
     "evalue": "name 'file_duration' is not defined",
     "output_type": "error",
     "traceback": [
      "\u001b[0;31m---------------------------------------------------------------------------\u001b[0m",
      "\u001b[0;31mNameError\u001b[0m                                 Traceback (most recent call last)",
      "\u001b[0;32m/var/folders/vg/jb278gs54dx19zg4493rjtmm0000gn/T/ipykernel_6656/4148109557.py\u001b[0m in \u001b[0;36m<module>\u001b[0;34m\u001b[0m\n\u001b[1;32m     19\u001b[0m         \u001b[0mc_time1\u001b[0m \u001b[0;34m=\u001b[0m \u001b[0mf_time\u001b[0m\u001b[0;34m(\u001b[0m\u001b[0;34m)\u001b[0m\u001b[0;34m\u001b[0m\u001b[0;34m\u001b[0m\u001b[0m\n\u001b[1;32m     20\u001b[0m         \u001b[0mprint\u001b[0m\u001b[0;34m(\u001b[0m\u001b[0;34m\"Durée de compression :\"\u001b[0m\u001b[0;34m,\u001b[0m \u001b[0mstr\u001b[0m\u001b[0;34m(\u001b[0m\u001b[0mtimedelta\u001b[0m\u001b[0;34m(\u001b[0m\u001b[0mseconds\u001b[0m \u001b[0;34m=\u001b[0m \u001b[0;34m(\u001b[0m\u001b[0mc_time1\u001b[0m \u001b[0;34m-\u001b[0m \u001b[0mc_time0\u001b[0m\u001b[0;34m)\u001b[0m\u001b[0;34m)\u001b[0m\u001b[0;34m)\u001b[0m\u001b[0;34m)\u001b[0m\u001b[0;34m\u001b[0m\u001b[0;34m\u001b[0m\u001b[0m\n\u001b[0;32m---> 21\u001b[0;31m         \u001b[0mprint\u001b[0m\u001b[0;34m(\u001b[0m\u001b[0;34m\"Par rapport à la durée :\"\u001b[0m\u001b[0;34m,\u001b[0m \u001b[0mstr\u001b[0m\u001b[0;34m(\u001b[0m \u001b[0;34m(\u001b[0m\u001b[0mc_time1\u001b[0m \u001b[0;34m-\u001b[0m \u001b[0mc_time0\u001b[0m\u001b[0;34m)\u001b[0m\u001b[0;34m/\u001b[0m\u001b[0mfile_duration\u001b[0m \u001b[0;34m)\u001b[0m\u001b[0;34m)\u001b[0m\u001b[0;34m\u001b[0m\u001b[0;34m\u001b[0m\u001b[0m\n\u001b[0m\u001b[1;32m     22\u001b[0m         \u001b[0mDurees\u001b[0m\u001b[0;34m[\u001b[0m\u001b[0mi\u001b[0m\u001b[0;34m]\u001b[0m \u001b[0;34m=\u001b[0m \u001b[0mc_time1\u001b[0m \u001b[0;34m-\u001b[0m \u001b[0mc_time0\u001b[0m\u001b[0;34m\u001b[0m\u001b[0;34m\u001b[0m\u001b[0m\n\u001b[1;32m     23\u001b[0m \u001b[0;34m\u001b[0m\u001b[0m\n",
      "\u001b[0;31mNameError\u001b[0m: name 'file_duration' is not defined"
     ]
    }
   ],
   "source": [
    "for i, command in enumerate(commands):\n",
    "        file_out = str(i) + format_out\n",
    "        print(\"Commande :\", command)\n",
    "        print(\"Output :\", file_out)\n",
    "        \n",
    "        c_time0 = f_time()\n",
    "        open(file_out, 'a').close() # create empty file\n",
    "\n",
    "        cmd = shlex.split(command.replace(\"$in\", file_in).replace(\"$out\", file_out))\n",
    "        # renvoie liste [\"ffmpeg\", \"-y\", \"$in\"...]\n",
    "        # .replace(\"$in\", file_in) renvoie [\"ffmpeg\", \"-y\", file_in...]\n",
    "        \n",
    "        #ffmpeg renvoie bcp bcp de texte (essayer dans un terminal), on log que\n",
    "        #les erreurs qui empêcheraient l'exécution correcte du code\n",
    "        cmd.append(\"-loglevel\"); cmd.append(\"error\")\n",
    "        \n",
    "        subprocess.call(cmd) # execute une commande sous forme de liste (cf. au dessus)\n",
    "        \n",
    "        c_time1 = f_time()\n",
    "        print(\"Durée de compression :\", str(timedelta(seconds = (c_time1 - c_time0))))\n",
    "        print(\"Par rapport à la durée :\", str( (c_time1 - c_time0)/file_duration ))\n",
    "        Durees[i] = c_time1 - c_time0\n",
    "\n",
    "        out_size = os.path.getsize(file_out)\n",
    "        print(\"Ratio de compression :\", str( out_size/in_size ))\n",
    "        print(\"\")\n",
    "        Comp[i] = out_size/in_size"
   ]
  }
 ],
 "metadata": {
  "kernelspec": {
   "display_name": "Python 3 (ipykernel)",
   "language": "python",
   "name": "python3"
  },
  "language_info": {
   "codemirror_mode": {
    "name": "ipython",
    "version": 3
   },
   "file_extension": ".py",
   "mimetype": "text/x-python",
   "name": "python",
   "nbconvert_exporter": "python",
   "pygments_lexer": "ipython3",
   "version": "3.9.7"
  }
 },
 "nbformat": 4,
 "nbformat_minor": 5
}
