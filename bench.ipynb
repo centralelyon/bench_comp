{
 "cells": [
  {
   "cell_type": "markdown",
   "id": "6688072d",
   "metadata": {},
   "source": [
    "# <center>Benchmark compression</center>"
   ]
  },
  {
   "cell_type": "markdown",
   "id": "3f31c373",
   "metadata": {},
   "source": [
    "## <center> Introduction</center>"
   ]
  },
  {
   "cell_type": "markdown",
   "id": "4505fb0b",
   "metadata": {},
   "source": [
    "Ce notebook sert à exécuter des commandes `ffmpeg` afin de tester les différents paramètres et d'en tirer rapidement des métriques pour améliorer la commande de compression utilisée."
   ]
  },
  {
   "cell_type": "code",
   "execution_count": 1,
   "id": "3f781184",
   "metadata": {},
   "outputs": [],
   "source": [
    "file_in = \"/data/bench/A008_11030611_C007.mov\"\n",
    "format_out = \".mp4\""
   ]
  },
  {
   "cell_type": "code",
   "execution_count": 2,
   "id": "d1b02f70",
   "metadata": {},
   "outputs": [],
   "source": [
    "import timeit\n",
    "import subprocess\n",
    "import shlex\n",
    "from datetime import timedelta\n",
    "import os\n",
    "import ffmpeg #pip install ffmpeg-python\n",
    "\n",
    "f_time = timeit.default_timer\n",
    "\n",
    "# get the metadata of the input video once and for all\n",
    "file_duration = float(ffmpeg.probe(file_in)[\"streams\"][0][\"duration\"])\n",
    "in_size = float(ffmpeg.probe(file_in)[\"format\"][\"size\"])"
   ]
  },
  {
   "cell_type": "markdown",
   "id": "4d8b8d85",
   "metadata": {},
   "source": [
    "## <center>Exécution des commandes</center>"
   ]
  },
  {
   "cell_type": "markdown",
   "id": "35d42da9",
   "metadata": {},
   "source": [
    "### 3. Sous-échantillonnage colorimétrique"
   ]
  },
  {
   "cell_type": "code",
   "execution_count": 4,
   "id": "19ee398c",
   "metadata": {},
   "outputs": [],
   "source": [
    "commands = [\"ffmpeg -y -i $in -vcodec libx264 -crf 24 -preset ultrafast -acodec aac -strict experimental $out\",                #4:2:2 10-bit\n",
    "    \"ffmpeg -y -i $in -vcodec libx264 -crf 24 -preset ultrafast -vf format=yuv422p -acodec aac -strict experimental $out\",     #4:2:2 8-bit\n",
    "    \"ffmpeg -y -i $in -vcodec libx264 -crf 24 -preset ultrafast -vf format=yuv420p10le -acodec aac -strict experimental $out\", #4:2:0 10-bit\n",
    "    \"ffmpeg -y -i $in -vcodec libx264 -crf 24 -preset ultrafast -vf format=yuv420p -acodec aac -strict experimental $out\",     #4:2:0 8-bit\n",
    "    \"ffmpeg -y -i $in -vcodec libx264 -crf 24 -preset ultrafast -vf format=yuv411p -acodec aac -strict experimental $out\",     #4:1:1 8-bit\n",
    "    \n",
    "    \"ffmpeg -y -i $in -vcodec libx264 -crf 24 -preset superfast -acodec aac -strict experimental $out\",                        #4:2:2 10-bit\n",
    "    \"ffmpeg -y -i $in -vcodec libx264 -crf 24 -preset superfast -vf format=yuv422p -acodec aac -strict experimental $out\",     #4:2:2 8-bit\n",
    "    \"ffmpeg -y -i $in -vcodec libx264 -crf 24 -preset superfast -vf format=yuv420p10le -acodec aac -strict experimental $out\", #4:2:0 10-bit\n",
    "    \"ffmpeg -y -i $in -vcodec libx264 -crf 24 -preset superfast -vf format=yuv420p -acodec aac -strict experimental $out\",     #4:2:0 8-bit\n",
    "    \"ffmpeg -y -i $in -vcodec libx264 -crf 24 -preset superfast -vf format=yuv411p -acodec aac -strict experimental $out\",     #4:1:1 8-bit   \n",
    "]\n",
    "\n",
    "Comp = [0]*len(commands)\n",
    "Durees = [0]*len(commands)"
   ]
  },
  {
   "cell_type": "markdown",
   "id": "a35c611d",
   "metadata": {},
   "source": [
    "Exécution du script"
   ]
  },
  {
   "cell_type": "code",
   "execution_count": 5,
   "id": "8900f6b3",
   "metadata": {},
   "outputs": [
    {
     "name": "stdout",
     "output_type": "stream",
     "text": [
      "Commande : ffmpeg -y -i $in -vcodec libx264 -crf 24 -preset ultrafast -acodec aac -strict experimental $out\n",
      "Output : 0.mp4\n",
      "Durée de compression : 0:00:00.000313\n",
      "Par rapport à la durée : 1.8782157334471123e-06\n",
      "Ratio de compression : 0.0\n",
      "\n",
      "Commande : ffmpeg -y -i $in -vcodec libx264 -crf 24 -preset ultrafast -vf format=yuv422p -acodec aac -strict experimental $out\n",
      "Output : 1.mp4\n",
      "Durée de compression : 0:00:00.000554\n",
      "Par rapport à la durée : 3.3218802676143005e-06\n",
      "Ratio de compression : 0.0\n",
      "\n",
      "Commande : ffmpeg -y -i $in -vcodec libx264 -crf 24 -preset ultrafast -vf format=yuv420p10le -acodec aac -strict experimental $out\n",
      "Output : 2.mp4\n",
      "Durée de compression : 0:00:00.000541\n",
      "Par rapport à la durée : 3.2456203918729287e-06\n",
      "Ratio de compression : 0.0\n",
      "\n",
      "Commande : ffmpeg -y -i $in -vcodec libx264 -crf 24 -preset ultrafast -vf format=yuv420p -acodec aac -strict experimental $out\n",
      "Output : 3.mp4\n",
      "Durée de compression : 0:00:00.000525\n",
      "Par rapport à la durée : 3.148260151745918e-06\n",
      "Ratio de compression : 0.0\n",
      "\n",
      "Commande : ffmpeg -y -i $in -vcodec libx264 -crf 24 -preset ultrafast -vf format=yuv411p -acodec aac -strict experimental $out\n",
      "Output : 4.mp4\n",
      "Durée de compression : 0:00:00.000520\n",
      "Par rapport à la durée : 3.1194444261623162e-06\n",
      "Ratio de compression : 0.0\n",
      "\n",
      "Commande : ffmpeg -y -i $in -vcodec libx264 -crf 24 -preset superfast -acodec aac -strict experimental $out\n",
      "Output : 5.mp4\n",
      "Durée de compression : 0:00:00.000522\n",
      "Par rapport à la durée : 3.129115670230816e-06\n",
      "Ratio de compression : 0.0\n",
      "\n",
      "Commande : ffmpeg -y -i $in -vcodec libx264 -crf 24 -preset superfast -vf format=yuv422p -acodec aac -strict experimental $out\n",
      "Output : 6.mp4\n",
      "Durée de compression : 0:00:00.000321\n",
      "Par rapport à la durée : 1.926853860042746e-06\n",
      "Ratio de compression : 0.0\n",
      "\n",
      "Commande : ffmpeg -y -i $in -vcodec libx264 -crf 24 -preset superfast -vf format=yuv420p10le -acodec aac -strict experimental $out\n",
      "Output : 7.mp4\n",
      "Durée de compression : 0:00:00.000535\n",
      "Par rapport à la durée : 3.2091312985592354e-06\n",
      "Ratio de compression : 0.0\n",
      "\n",
      "Commande : ffmpeg -y -i $in -vcodec libx264 -crf 24 -preset superfast -vf format=yuv420p -acodec aac -strict experimental $out\n",
      "Output : 8.mp4\n",
      "Durée de compression : 0:00:00.000532\n",
      "Par rapport à la durée : 3.1912827651461846e-06\n",
      "Ratio de compression : 0.0\n",
      "\n",
      "Commande : ffmpeg -y -i $in -vcodec libx264 -crf 24 -preset superfast -vf format=yuv411p -acodec aac -strict experimental $out\n",
      "Output : 9.mp4\n",
      "Durée de compression : 0:00:00.000552\n",
      "Par rapport à la durée : 3.309749219060804e-06\n",
      "Ratio de compression : 0.0\n",
      "\n"
     ]
    }
   ],
   "source": [
    "for i, command in enumerate(commands):\n",
    "        file_out = str(i) + format_out\n",
    "        print(\"Commande :\", command)\n",
    "        print(\"Output :\", file_out)\n",
    "        \n",
    "        c_time0 = f_time()\n",
    "        open(file_out, 'a').close() # create empty file\n",
    "\n",
    "        cmd = shlex.split(command.replace(\"$in\", file_in).replace(\"$out\", file_out))\n",
    "        # renvoie liste [\"ffmpeg\", \"-y\", \"$in\"...]\n",
    "        # .replace(\"$in\", file_in) renvoie [\"ffmpeg\", \"-y\", file_in...]\n",
    "        \n",
    "        #ffmpeg renvoie bcp bcp de texte (essayer dans un terminal), on log que\n",
    "        #les erreurs qui empêcheraient l'exécution correcte du code\n",
    "        cmd.append(\"-loglevel\"); cmd.append(\"error\")\n",
    "        \n",
    "        #subprocess.call(cmd) # execute une commande sous forme de liste (cf. au dessus)\n",
    "        \n",
    "        c_time1 = f_time()\n",
    "        print(\"Durée de compression :\", str(timedelta(seconds = (c_time1 - c_time0))))\n",
    "        print(\"Par rapport à la durée :\", str( (c_time1 - c_time0)/file_duration ))\n",
    "        Durees[i] = c_time1 - c_time0\n",
    "\n",
    "        out_size = os.path.getsize(file_out)\n",
    "        print(\"Ratio de compression :\", str( out_size/in_size ))\n",
    "        print(\"\")\n",
    "        Comp[i] = out_size/in_size"
   ]
  },
  {
   "cell_type": "code",
   "execution_count": null,
   "id": "97037308",
   "metadata": {},
   "outputs": [],
   "source": []
  }
 ],
 "metadata": {
  "kernelspec": {
   "display_name": "Python 3 (ipykernel)",
   "language": "python",
   "name": "python3"
  },
  "language_info": {
   "codemirror_mode": {
    "name": "ipython",
    "version": 3
   },
   "file_extension": ".py",
   "mimetype": "text/x-python",
   "name": "python",
   "nbconvert_exporter": "python",
   "pygments_lexer": "ipython3",
   "version": "3.9.7"
  }
 },
 "nbformat": 4,
 "nbformat_minor": 5
}
