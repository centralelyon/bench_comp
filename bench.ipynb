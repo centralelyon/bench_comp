{
 "cells": [
  {
   "cell_type": "markdown",
   "id": "6688072d",
   "metadata": {},
   "source": [
    "# <center>Benchmark compression</center>"
   ]
  },
  {
   "cell_type": "markdown",
   "id": "3f31c373",
   "metadata": {},
   "source": [
    "## <center> Introduction</center>"
   ]
  },
  {
   "cell_type": "markdown",
   "id": "4505fb0b",
   "metadata": {},
   "source": [
    "Ce notebook sert à exécuter des commandes `ffmpeg` afin de tester les différents paramètres et d'en tirer rapidement des métriques pour améliorer la commande de compression utilisée.\n",
    "\n",
    "Pour paramétrer, donner ci-dessous :\n",
    "- le chemin vers une vidéo\n",
    "- le conteneur de sortie (par défaut, .m4v)\n",
    "- le dossier de sortie des vidéos compressées (par défaut le dossier courant)\n",
    "- les commandes à exécuter\n",
    "\n",
    "Après l'exécution des commandes, paramétrer les tracés dans la cellule correspondante."
   ]
  },
  {
   "cell_type": "code",
   "execution_count": 49,
   "id": "b47e1269",
   "metadata": {},
   "outputs": [],
   "source": [
    "file_in = \"/data/bench/A008_11030611_C007.mov\"\n",
    "format_out = \"\"\n",
    "destination = \"\"\n",
    "\n",
    "commands = [\"ffmpeg -y -i $in -vcodec libx264 -crf 24 -preset ultrafast -acodec aac -strict experimental $out\",                #4:2:2 10-bit\n",
    "    \"ffmpeg -y -i $in -vcodec libx264 -crf 24 -preset ultrafast -vf format=yuv422p -acodec aac -strict experimental $out\",     #4:2:2 8-bit\n",
    "    \"ffmpeg -y -i $in -vcodec libx264 -crf 24 -preset ultrafast -vf format=yuv420p10le -acodec aac -strict experimental $out\", #4:2:0 10-bit\n",
    "    \"ffmpeg -y -i $in -vcodec libx264 -crf 24 -preset ultrafast -vf format=yuv420p -acodec aac -strict experimental $out\",     #4:2:0 8-bit\n",
    "    \"ffmpeg -y -i $in -vcodec libx264 -crf 24 -preset ultrafast -vf format=yuv411p -acodec aac -strict experimental $out\",     #4:1:1 8-bit\n",
    "    \n",
    "    \"ffmpeg -y -i $in -vcodec libx264 -crf 24 -preset superfast -acodec aac -strict experimental $out\",                        #4:2:2 10-bit\n",
    "    \"ffmpeg -y -i $in -vcodec libx264 -crf 24 -preset superfast -vf format=yuv422p -acodec aac -strict experimental $out\",     #4:2:2 8-bit\n",
    "    \"ffmpeg -y -i $in -vcodec libx264 -crf 24 -preset superfast -vf format=yuv420p10le -acodec aac -strict experimental $out\", #4:2:0 10-bit\n",
    "    \"ffmpeg -y -i $in -vcodec libx264 -crf 24 -preset superfast -vf format=yuv420p -acodec aac -strict experimental $out\",     #4:2:0 8-bit\n",
    "    \"ffmpeg -y -i $in -vcodec libx264 -crf 24 -preset superfast -vf format=yuv411p -acodec aac -strict experimental $out\",     #4:1:1 8-bit   \n",
    "]"
   ]
  },
  {
   "cell_type": "markdown",
   "id": "4d8b8d85",
   "metadata": {},
   "source": [
    "## <center>Exécution des commandes</center>"
   ]
  },
  {
   "cell_type": "markdown",
   "id": "a35c611d",
   "metadata": {},
   "source": [
    "#### Exécution du script"
   ]
  },
  {
   "cell_type": "code",
   "execution_count": 50,
   "id": "27513e98",
   "metadata": {
    "scrolled": false
   },
   "outputs": [
    {
     "name": "stdout",
     "output_type": "stream",
     "text": [
      "Commande : ffmpeg -y -i $in -vcodec libx264 -crf 24 -preset ultrafast -acodec aac -strict experimental $out\n",
      "Output : 0.m4v\n",
      "Durée de compression : 0:00:00.000621\n",
      "Par rapport à la durée : 3.7258578650619835e-06\n",
      "Ratio de compression : 0.0\n",
      "\n",
      "Commande : ffmpeg -y -i $in -vcodec libx264 -crf 24 -preset ultrafast -vf format=yuv422p -acodec aac -strict experimental $out\n",
      "Output : 1.m4v\n",
      "Durée de compression : 0:00:00.000200\n",
      "Par rapport à la durée : 1.1992021364354103e-06\n",
      "Ratio de compression : 0.0\n",
      "\n",
      "Commande : ffmpeg -y -i $in -vcodec libx264 -crf 24 -preset ultrafast -vf format=yuv420p10le -acodec aac -strict experimental $out\n",
      "Output : 2.m4v\n",
      "Durée de compression : 0:00:00.000154\n",
      "Par rapport à la durée : 9.25911965098063e-07\n",
      "Ratio de compression : 0.0\n",
      "\n",
      "Commande : ffmpeg -y -i $in -vcodec libx264 -crf 24 -preset ultrafast -vf format=yuv420p -acodec aac -strict experimental $out\n",
      "Output : 3.m4v\n",
      "Durée de compression : 0:00:00.000148\n",
      "Par rapport à la durée : 8.876409867963031e-07\n",
      "Ratio de compression : 0.0\n",
      "\n",
      "Commande : ffmpeg -y -i $in -vcodec libx264 -crf 24 -preset ultrafast -vf format=yuv411p -acodec aac -strict experimental $out\n",
      "Output : 4.m4v\n",
      "Durée de compression : 0:00:00.000202\n",
      "Par rapport à la durée : 1.209179295496472e-06\n",
      "Ratio de compression : 0.0\n",
      "\n",
      "Commande : ffmpeg -y -i $in -vcodec libx264 -crf 24 -preset superfast -acodec aac -strict experimental $out\n",
      "Output : 5.m4v\n",
      "Durée de compression : 0:00:00.000527\n",
      "Par rapport à la durée : 3.1640329332003077e-06\n",
      "Ratio de compression : 0.0\n",
      "\n",
      "Commande : ffmpeg -y -i $in -vcodec libx264 -crf 24 -preset superfast -vf format=yuv422p -acodec aac -strict experimental $out\n",
      "Output : 6.m4v\n",
      "Durée de compression : 0:00:00.000693\n",
      "Par rapport à la durée : 4.154823671201459e-06\n",
      "Ratio de compression : 0.0\n",
      "\n",
      "Commande : ffmpeg -y -i $in -vcodec libx264 -crf 24 -preset superfast -vf format=yuv420p10le -acodec aac -strict experimental $out\n",
      "Output : 7.m4v\n",
      "Durée de compression : 0:00:00.000719\n",
      "Par rapport à la durée : 4.315814753608362e-06\n",
      "Ratio de compression : 0.0\n",
      "\n",
      "Commande : ffmpeg -y -i $in -vcodec libx264 -crf 24 -preset superfast -vf format=yuv420p -acodec aac -strict experimental $out\n",
      "Output : 8.m4v\n",
      "Durée de compression : 0:00:00.000686\n",
      "Par rapport à la durée : 4.113420905624249e-06\n",
      "Ratio de compression : 0.0\n",
      "\n",
      "Commande : ffmpeg -y -i $in -vcodec libx264 -crf 24 -preset superfast -vf format=yuv411p -acodec aac -strict experimental $out\n",
      "Output : 9.m4v\n",
      "Durée de compression : 0:00:00.000678\n",
      "Par rapport à la durée : 4.068976451022823e-06\n",
      "Ratio de compression : 0.0\n",
      "\n"
     ]
    }
   ],
   "source": [
    "import timeit\n",
    "import subprocess\n",
    "import shlex\n",
    "from datetime import timedelta\n",
    "import os\n",
    "import ffmpeg #pip install ffmpeg-python (and not other packages)\n",
    "\n",
    "if not format_out: format_out = '.m4v'\n",
    "if not destination: destination = os.getcwd()+'/out/'\n",
    "\n",
    "Comp = [0]*len(commands)\n",
    "Durees = [0]*len(commands)\n",
    "f_time = timeit.default_timer\n",
    "\n",
    "# get the metadata of the input video once and for all\n",
    "file_duration = float(ffmpeg.probe(file_in)[\"streams\"][0][\"duration\"])\n",
    "in_size = os.path.getsize(file_in)\n",
    "\n",
    "for i, command in enumerate(commands):\n",
    "        file_out = destination + str(i) + format_out\n",
    "        print(\"Commande :\", command)\n",
    "        print(\"Output :\", str(i) + format_out)\n",
    "        \n",
    "        c_time0 = f_time()\n",
    "        open(file_out, 'a').close() # create empty file\n",
    "\n",
    "        cmd = shlex.split(command.replace(\"$in\", file_in).replace(\"$out\", file_out))\n",
    "        # renvoie liste [\"ffmpeg\", \"-y\", \"$in\"...]\n",
    "        \n",
    "        #ffmpeg renvoie bcp bcp de texte (essayer dans un terminal), on log que\n",
    "        #les erreurs qui empêcheraient l'exécution correcte du code\n",
    "        cmd.append(\"-loglevel\"); cmd.append(\"error\")\n",
    "        \n",
    "        #subprocess.call(cmd) # execute une commande sous forme de liste (cf. au dessus)\n",
    "        \n",
    "        c_time1 = f_time()\n",
    "        Durees[i] = c_time1 - c_time0\n",
    "        print(\"Durée de compression :\", str(timedelta(seconds = Durees[i])))\n",
    "        print(\"Par rapport à la durée :\", str( Durees[i]/file_duration ))\n",
    "\n",
    "        out_size = os.path.getsize(file_out)\n",
    "        Comp[i] = out_size/in_size\n",
    "        print(\"Ratio de compression :\", str( Comp[i] ))\n",
    "        print(\"\")"
   ]
  },
  {
   "cell_type": "markdown",
   "id": "a9f2b202",
   "metadata": {},
   "source": [
    "#### Paramétrage du tracé des figures"
   ]
  },
  {
   "cell_type": "code",
   "execution_count": 51,
   "id": "2f1454c4",
   "metadata": {},
   "outputs": [
    {
     "data": {
      "text/plain": [
       "<matplotlib.legend.Legend at 0x7f189748a3a0>"
      ]
     },
     "execution_count": 51,
     "metadata": {},
     "output_type": "execute_result"
    },
    {
     "data": {
      "image/png": "[encoded data removed]",
      "text/plain": [
       "<Figure size 1152x864 with 2 Axes>"
      ]
     },
     "metadata": {
      "needs_background": "light"
     },
     "output_type": "display_data"
    }
   ],
   "source": [
    "import matplotlib as mpl\n",
    "import matplotlib.pyplot as plt\n",
    "\n",
    "Formats = ['4:2:2 10-bit', '4:2:2 8-bit', '4:2:0 10-bit', '4:2:0 8-bit', '4:1:1 8-bit']\n",
    "Y = [0]*len(Durees)\n",
    "for i in range(len(Durees)):\n",
    "    Y[i] = Durees[i]/file_duration\n",
    "\n",
    "mpl.rcParams['figure.figsize'] = [2.5*v for v in mpl.rcParamsDefault['figure.figsize']] # to get bigger figures\n",
    "\n",
    "fig, (sub1, sub2) = plt.subplots(2, sharex = True)\n",
    "\n",
    "sub1.plot(Formats, Y[:5], 'o--', label='ultrafast')\n",
    "sub1.plot(Formats, Y[5:], 'o--', label='superfast')\n",
    "sub1.set_title(\"Ratio durée compression/durée vidéo\")\n",
    "\n",
    "sub2.plot(Formats, Comp[:5], 'o--', label='ultrafast')\n",
    "sub2.plot(Formats, Comp[5:], 'o--', label='superfast')\n",
    "sub2.set_title(\"Ratio de compression\")\n",
    "plt.legend()"
   ]
  },
  {
   "cell_type": "markdown",
   "id": "5250a92e",
   "metadata": {},
   "source": [
    "#### Écriture des résultats dans un fichier .json.\n",
    "\n",
    "Éditer ce qu'on souhaite exporter."
   ]
  },
  {
   "cell_type": "code",
   "execution_count": 48,
   "id": "fc941a75",
   "metadata": {},
   "outputs": [],
   "source": [
    "import json\n",
    "\n",
    "data_out = {}\n",
    "data_out[\"parametres\"] = Formats\n",
    "data_out[\"tps_ultrafast\"] = Y[:5]\n",
    "data_out[\"comp_ultrafast\"] = Comp[:5]\n",
    "data_out[\"tps_superfast\"] = Y[5:]\n",
    "data_out[\"comp_ultrafast\"] = Comp[:5]\n",
    "\n",
    "with open(destination + '/results.json', 'w') as json_out: \n",
    "    json.dump(data_out, json_out, indent=4)"
   ]
  }
 ],
 "metadata": {
  "kernelspec": {
   "display_name": "Python 3 (ipykernel)",
   "language": "python",
   "name": "python3"
  },
  "language_info": {
   "codemirror_mode": {
    "name": "ipython",
    "version": 3
   },
   "file_extension": ".py",
   "mimetype": "text/x-python",
   "name": "python",
   "nbconvert_exporter": "python",
   "pygments_lexer": "ipython3",
   "version": "3.9.7"
  }
 },
 "nbformat": 4,
 "nbformat_minor": 5
}
