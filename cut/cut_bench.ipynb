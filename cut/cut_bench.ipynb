{
 "cells": [
  {
   "cell_type": "markdown",
   "id": "11b2e48b",
   "metadata": {},
   "source": [
    "# <center>Benchmark découpage</center>"
   ]
  },
  {
   "cell_type": "markdown",
   "id": "47a07c1b",
   "metadata": {},
   "source": [
    "## <center> Introduction</center>"
   ]
  },
  {
   "cell_type": "markdown",
   "id": "264023cf",
   "metadata": {},
   "source": [
    "Ce notebook sert à exécuter des commandes `ffmpeg` afin de tester les différents paramètres et d'en tirer rapidement des métriques pour trouver la meilleure façon de découper une vidéo.\n",
    "\n",
    "Globalement, pour découper une vidéo, on demande à `ffmpeg` d'aller chercher un timestamp, avec l'argument `-ss` pour _seeking_ puis \n",
    "\n",
    "- soit aller à un autre timestamp avec l'argument `-to`\n",
    "- soit recopier une durée déterminée avec l'argument `-t`\n",
    "\n",
    "Pendant l'opération, on peut soit recopier en dur les flux audio/vidéo sans les décoder, soit réencoder les flux enter les frames de début et de fin. Nous testerons donc :\n",
    "\n",
    "#### En recopiant le flux vidéo\n",
    "- l'input seeking : aller de keyframe (frame codée en dur) en keyframe et s'arrêter à la plus proche du timestamp de départ demandé. Sauter de keyframe en keyframe permet d'aller plus vite (d'autant plus qu'il y a peu de keyframes), mais on pert en résolution temporelle (idem). `ffmpeg -ss hh:mm:ss -i $in -to hh:mm:ss -c copy -copyts $out`\n",
    "- output seeking : le flux d'entrée est décodé __puis__ on le parcourt frame par frame jusqu'à la frame demandée : permet de gagner en précision mais on pert en vitesse : `ffmpeg -i $in -ss hh:mm:ss -to hh:mm:ss -c copy $out`\n",
    "\n",
    "Lorsque l'on fait des copies sans réencoder le flux vidéo, il est possible que la vidéo d'output ne commence par à 00:00.000 (_i.e._ qu'il y ait un décalage des timestamps). Cela peut se manifester par quelques secondes de noir au début de la vidéo. Dans ce cas, on rajoute le paramètre `-avoid_negative_ts make_zero` :\n",
    "- en input seeking : `ffmpeg -ss hh:mm:ss -i $in -to hh:mm:ss -c copy -copyts -avoid_negative_ts make_zero $out`\n",
    "- en output seeking : `ffmpeg -i $in -ss hh:mm:ss -to hh:mm:ss -c copy -avoid_negative_ts make_zero $out`\n",
    "\n",
    "#### En réencodant le flux vidéo (transcoding)\n",
    "L'opération sera bien plus longue car on va réencoder le flux pour que :\n",
    "1. la vidéo de sortie commence exactement au timecode demandé\n",
    "2. la première frame de cette vidéo (la frame du timecode) soit une keyframe\n",
    "Ceci permet d'avoir la précision maximale sans artefact, mais cela sera coûteux en temps et en ressources.\n",
    "\n",
    "- en input seeking : `ffmpeg -ss hh:mm:ss -i $in -to hh:mm:ss -c:v libx264 -c:a aac -copyts $out`\n",
    "- en output seeking : `ffmpeg -i $in -ss hh:mm:ss -to hh:mm:ss -c:v libx264 -c:a aac $out`\n",
    "\n",
    "Pour toutes ces commandes, on cherche à benchmark la rapidité, la précision de la découpe et dans le cas du transcodage, une idée qualitative de la qualité visuelle (on aimerait le moins de déformation possible)."
   ]
  },
  {
   "cell_type": "markdown",
   "id": "347c54ac",
   "metadata": {},
   "source": [
    "Pour paramétrer, donner ci-dessous :\n",
    "- le chemin vers une vidéo\n",
    "- le conteneur de sortie (par défaut, .m4v)\n",
    "- le dossier de sortie des vidéos compressées (par défaut /out inclus dans le dossier courant)\n",
    "- les commandes à exécuter\n",
    "- les timestamps de début et de fin, sous forme hh:mm:ss ou somme de secondes en base 10 (par défaut, timestamps aléatoires)\n",
    "\n",
    "Après l'exécution des commandes, paramétrer les tracés dans la cellule correspondante."
   ]
  },
  {
   "cell_type": "code",
   "execution_count": 26,
   "id": "f0788e5e",
   "metadata": {},
   "outputs": [],
   "source": [
    "file_in = \"/data/bench/cut/2022_CF_Limoges_4nages_dames_200_series1_fixeDroite.mp4\"\n",
    "format_out = \"\"\n",
    "destination = \"/data/bench/cut\"\n",
    "\n",
    "commands = [\n",
    "    \"ffmpeg -y -ss $begin -i $in -to $end -c copy -copyts $out\",   #input seeking\n",
    "    \"ffmpeg -y -i $in -ss $begin -to $end -c copy $out\",           #output seeking\n",
    "    #idem mais on décale les timestamps:\n",
    "    \"ffmpeg -y -ss $begin -i $in -to $end -c copy -copyts -avoid_negative_ts make_zero $out\",\n",
    "    \"ffmpeg -y -i $in -ss $begin -to $end -c copy -avoid_negative_ts make_zero $out\",\n",
    "    \n",
    "    \"ffmpeg -y -ss $begin -i $in -to $end -c:v libx264 -c:a aac -copyts $out\", #input seeking + transcoding\n",
    "    \"ffmpeg -y -i $in -ss $begin -to $end -c:v libx264 -c:a aac $out\", #output seeking + transcoding\n",
    "    \n",
    "    \"wrapper\" #ffmpeg-python package\n",
    "]\n",
    "\n",
    "begin_ts = ''\n",
    "end_ts = ''"
   ]
  },
  {
   "cell_type": "markdown",
   "id": "4197551f",
   "metadata": {},
   "source": [
    "## <center>Exécution des commandes</center>"
   ]
  },
  {
   "cell_type": "markdown",
   "id": "fa3f463d",
   "metadata": {},
   "source": [
    "#### Exécution du script"
   ]
  },
  {
   "cell_type": "code",
   "execution_count": 32,
   "id": "e4702f1e",
   "metadata": {},
   "outputs": [
    {
     "name": "stdout",
     "output_type": "stream",
     "text": [
      "Durée de l'extrait d'entrée : 70.29 \n",
      "\n",
      "Commande : ffmpeg -y -ss $begin -i $in -to $end -c copy -copyts $out\n",
      "Output : 0.m4v\n",
      "Durée du fichier de sortie : 74.7\n",
      "Durée de découpe : 0:00:01.078660\n",
      "Par rapport à la durée de la vidéo : 0.006471440922727706\n",
      "Par rapport à la durée de l'extrait' : 0.015345849665674406 \n",
      "\n",
      "Commande : ffmpeg -y -i $in -ss $begin -to $end -c copy $out\n",
      "Output : 1.m4v\n",
      "Durée du fichier de sortie : 69.7\n",
      "Durée de découpe : 0:00:01.018483\n",
      "Par rapport à la durée de la vidéo : 0.006110411279096162\n",
      "Par rapport à la durée de l'extrait' : 0.014489733276422652 \n",
      "\n",
      "Commande : ffmpeg -y -ss $begin -i $in -to $end -c copy -copyts -avoid_negative_ts make_zero $out\n",
      "Output : 2.m4v\n",
      "Durée du fichier de sortie : 74.7\n",
      "Durée de découpe : 0:00:01.047755\n",
      "Par rapport à la durée de la vidéo : 0.006286026289897691\n",
      "Par rapport à la durée de l'extrait' : 0.014906172456966097 \n",
      "\n",
      "Commande : ffmpeg -y -i $in -ss $begin -to $end -c copy -avoid_negative_ts make_zero $out\n",
      "Output : 3.m4v\n",
      "Durée du fichier de sortie : 69.7\n",
      "Durée de découpe : 0:00:01.018367\n",
      "Par rapport à la durée de la vidéo : 0.006109713846889132\n",
      "Par rapport à la durée de l'extrait' : 0.014488079442303037 \n",
      "\n",
      "Commande : ffmpeg -y -ss $begin -i $in -to $end -c:v libx264 -c:a aac -copyts $out\n",
      "Output : 4.m4v\n",
      "Durée du fichier de sortie : 70.3\n",
      "Durée de découpe : 0:02:06.762930\n",
      "Par rapport à la durée de la vidéo : 0.760516736339092\n",
      "Par rapport à la durée de l'extrait' : 1.8034276513444283 \n",
      "\n",
      "Commande : ffmpeg -y -i $in -ss $begin -to $end -c:v libx264 -c:a aac $out\n",
      "Output : 5.m4v\n",
      "Durée du fichier de sortie : 70.3\n",
      "Durée de découpe : 0:02:16.851299\n",
      "Par rapport à la durée de la vidéo : 0.8210421117410621\n",
      "Par rapport à la durée de l'extrait' : 1.9469526132451307 \n",
      "\n",
      "Commande : wrapper\n",
      "Output : 6.m4v\n",
      "Durée du fichier de sortie : 70.3\n",
      "Durée de découpe : 0:02:06.539519\n",
      "Par rapport à la durée de la vidéo : 0.7591763810235084\n",
      "Par rapport à la durée de l'extrait' : 1.800249241556386 \n",
      "\n"
     ]
    }
   ],
   "source": [
    "import timeit\n",
    "import subprocess\n",
    "import shlex\n",
    "from datetime import timedelta\n",
    "import os\n",
    "import ffmpeg #pip install ffmpeg-python (and not other packages)\n",
    "from random import uniform\n",
    "\n",
    "if not format_out: format_out = '.m4v'\n",
    "if not destination: destination = os.path.join(os.getcwd(), 'out')\n",
    "\n",
    "Files_durations = [0]*len(commands)\n",
    "Cut_durations = [0]*len(commands)\n",
    "f_time = timeit.default_timer\n",
    "\n",
    "# get the duration of the input video once and for all\n",
    "file_duration = float(ffmpeg.probe(file_in)[\"streams\"][0][\"duration\"])\n",
    "framerate = float(ffmpeg.probe(file_in)[\"streams\"][0][\"avg_frame_rate\"].split('/')[0])\n",
    "\n",
    "if not begin_ts: begin_ts = round(uniform(0, file_duration/2), 2) #arbitrarily, in order to have a somehow long video\n",
    "if not end_ts: end_ts = round(uniform(begin_ts + 1/framerate, file_duration), 2)\n",
    "\n",
    "extract_duration = end_ts - begin_ts\n",
    "print(\"Durée de l'extrait d'entrée :\", str(extract_duration), '\\n')\n",
    "\n",
    "for i, command in enumerate(commands):\n",
    "        file_out = os.path.join(destination, str(i)+format_out)\n",
    "        print(\"Commande :\", command)\n",
    "        print(\"Output :\", str(i) + format_out)\n",
    "        \n",
    "        open(file_out, 'a').close() # create empty file\n",
    "\n",
    "        if command != 'wrapper':\n",
    "            cmd = shlex.split(command.replace(\"$in\", file_in).replace(\"$out\", file_out).replace(\"$begin\", str(begin_ts)).replace(\"$end\", str(end_ts)))\n",
    "            # renvoie liste [\"ffmpeg\", \"-y\", \"$in\"...]\n",
    "\n",
    "            #ffmpeg renvoie bcp bcp de texte (essayer dans un terminal), on log que\n",
    "            #les erreurs qui empêcheraient l'exécution correcte du code\n",
    "            cmd.append(\"-loglevel\"); cmd.append(\"error\")\n",
    "            \n",
    "            c_time0 = f_time()\n",
    "            subprocess.call(cmd) # execute une commande sous forme de liste (cf. au dessus)\n",
    "        \n",
    "        else:  #On teste en dernier le wrapper\n",
    "            c_time0 = f_time()\n",
    "            (\n",
    "                ffmpeg\n",
    "                .input(file_in, ss = begin_ts, to = end_ts)\n",
    "                .output(file_out, vcodec='libx264', acodec='aac')\n",
    "                .global_args(\"-loglevel\", \"error\")\n",
    "                .overwrite_output()\n",
    "                .run()\n",
    "            )\n",
    "        \n",
    "        c_time1 = f_time()\n",
    "        \n",
    "        Files_durations[i] = float(ffmpeg.probe(file_out)[\"streams\"][0][\"duration\"])\n",
    "        print(\"Durée du fichier de sortie :\", str(Files_durations[i]))\n",
    "        \n",
    "        Cut_durations[i] = c_time1 - c_time0\n",
    "        print(\"Durée de découpe :\", str(timedelta(seconds = Cut_durations[i])))\n",
    "        print(\"Par rapport à la durée de la vidéo :\", str( Cut_durations[i]/file_duration ))\n",
    "        print(\"Par rapport à la durée de l'extrait' :\", str( Cut_durations[i]/extract_duration ), '\\n')\n",
    "        \n",
    "        "
   ]
  },
  {
   "cell_type": "markdown",
   "id": "93ecbed1",
   "metadata": {},
   "source": [
    "#### Premières conclusions\n",
    "\n",
    "La première vidéo met beaucoup de temps à se lancer : la méthode d'input seeking sans décalage est à proscrire. \n",
    "\n",
    "On va faire un contrôle qualité des temps de départ des vidéos :"
   ]
  },
  {
   "cell_type": "code",
   "execution_count": 96,
   "id": "b9b030c1",
   "metadata": {},
   "outputs": [
    {
     "name": "stdout",
     "output_type": "stream",
     "text": [
      "Timestamp de démarrage : 74.36\n",
      "0 70.0\n",
      "1 0.64\n",
      "2 0.047969\n",
      "3 0.632031\n",
      "4 74.36\n",
      "5 0.0\n",
      "6 0.0\n"
     ]
    }
   ],
   "source": [
    "print(\"Timestamp de démarrage :\", begin_ts)\n",
    "Start_times = [0]*len(commands)\n",
    "\n",
    "for i in range(len(commands)):\n",
    "    Start_times[i] = float(ffmpeg.probe(os.path.join(destination, str(i)+format_out))[\"streams\"][0][\"start_time\"])\n",
    "    print(i, str(Start_times[i]))"
   ]
  },
  {
   "cell_type": "markdown",
   "id": "e77dc1a4",
   "metadata": {},
   "source": [
    "En effet, la première vidéo met `start_time` secondes à se lire une fois le fichier ouvert dans un lecteur classique. Le lecteur est ensuite troublé car `start_time + duration` est inférieur à `duration` (!!) : il n'est même pas possible de naviguer correctement dans la vidéo.\n",
    "\n",
    "Ensuite, en output seeking, même en décalant les timestamps pour que tous les timestamps de la vidéo soient positifs ou nuls, le flux vidéo commence par une demi seconde bloquée sur la première frame (le flux audio est conservé et semble synchronisé quand on décale pas les timestamps)."
   ]
  },
  {
   "cell_type": "markdown",
   "id": "b3844e44",
   "metadata": {},
   "source": [
    "#### Paramétrage du tracé des figures"
   ]
  },
  {
   "cell_type": "code",
   "execution_count": 122,
   "id": "4f7603e4",
   "metadata": {},
   "outputs": [
    {
     "data": {
      "text/plain": [
       "Text(0.5, 1.0, 'Temps de découpe')"
      ]
     },
     "execution_count": 122,
     "metadata": {},
     "output_type": "execute_result"
    },
    {
     "data": {
      "image/png": "[encoded data removed]",
      "text/plain": [
       "<Figure size 1152x864 with 3 Axes>"
      ]
     },
     "metadata": {
      "needs_background": "light"
     },
     "output_type": "display_data"
    }
   ],
   "source": [
    "import matplotlib as mpl\n",
    "import matplotlib.pyplot as plt\n",
    "import numpy as np\n",
    "\n",
    "Formats = ['real', 'in', 'out', 'in, shift', 'out, shift', 'in, trans', 'out, trans', 'wrapper']\n",
    "dur_avg = np.mean(Files_durations)\n",
    "dur_std = np.std(Files_durations)\n",
    "\n",
    "mpl.rcParams['figure.figsize'] = [2.5*v for v in mpl.rcParamsDefault['figure.figsize']] # to get bigger figures\n",
    "\n",
    "fig, (sub1, sub2, sub3) = plt.subplots(3)\n",
    "\n",
    "sub1.bar(Formats, [extract_duration]+Files_durations, color=['orange']+['cornflowerblue']*(len(Formats)-1))\n",
    "sub1.set_xticks(Formats)\n",
    "sub1.axhline(y = extract_duration, color='red', linestyle='--')\n",
    "sub1.set_ylim(dur_avg-3*dur_std, dur_avg+3*dur_std)\n",
    "sub1.set_title(\"Durées\")\n",
    "\n",
    "sub2.bar(Formats, [0.0]+Start_times, color=['orange']+['cornflowerblue']*(len(Formats)-1))\n",
    "sub1.set_xticks(Formats)\n",
    "sub2.set_title(\"Timestamp de démarrage\")\n",
    "\n",
    "sub3.bar(Formats[1:], Cut_durations, color='cornflowerblue')\n",
    "sub1.set_xticks(Formats[1:])\n",
    "sub3.set_title(\"Temps de découpe\")"
   ]
  },
  {
   "cell_type": "markdown",
   "id": "b2cea731",
   "metadata": {},
   "source": [
    "## <center>Conclusion</center>"
   ]
  },
  {
   "cell_type": "markdown",
   "id": "02810f47",
   "metadata": {},
   "source": [
    "Pour avoir un extrait découpé correct, c'est-à-dire\n",
    "- dont le flux vidéo commence au timestamp 0:00.00\n",
    "- de la bonne durée\n",
    "- lisible correctement sur les lecteurs habituels (et _a foriori_ exploitable par nos modèles),\n",
    "\n",
    "il faudra forcément passer par un transcodage. Visuellement, le transcodage n'a pas l'air de déteriorer une fois de plus la qualité visuelle de l'extrait.\n",
    "\n",
    "Si on veut s'en assurer, on pourra uniquement découper les RAWs et dans ce cas spécifier les paramètres de compression utilisés en paramètre du script de découpage (dans le repo de pré traitement).\n"
   ]
  }
 ],
 "metadata": {
  "kernelspec": {
   "display_name": "Python 3 (ipykernel)",
   "language": "python",
   "name": "python3"
  },
  "language_info": {
   "codemirror_mode": {
    "name": "ipython",
    "version": 3
   },
   "file_extension": ".py",
   "mimetype": "text/x-python",
   "name": "python",
   "nbconvert_exporter": "python",
   "pygments_lexer": "ipython3",
   "version": "3.9.7"
  }
 },
 "nbformat": 4,
 "nbformat_minor": 5
}
